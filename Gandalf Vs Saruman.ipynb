{
 "cells": [
  {
   "cell_type": "markdown",
   "metadata": {},
   "source": [
    "# Gandalf Vs Saruman\n",
    "### An epic battle between two powerful wizards!!!!\n",
    "You are witnessing an epic battle between two powerful wizards: Gandalf and Saruman. Each mage has 10 spells of varying power in his mind and they are going to cast them one after another. The winner of the duel will be the one who wins the most of those clashes between spells. Spells are represented as a list of 10 integers whose value equals the power of the spell.\n",
    "```\n",
    "gandalf = [10, 11, 13, 30, 22, 11, 10, 33, 22, 22]\n",
    "saruman = [23, 66, 12, 43, 12, 10, 44, 23, 12, 17]\n",
    "```\n",
    "For example:\n",
    "1. The first clash is won by Saruman: 10 against 23, wins on 23\n",
    "2. The second clash wins Saruman: 11 against 66, wins the 66\n",
    "3.etc\n",
    "\n",
    "We are going to create two variables, one for each wizard, where the sum of spell hits won will be stored. Depending on which variable is greater at the end of the duel, you will display one of the following three results on the screen:\n",
    "* Gandalf wins\n",
    "*saruman wins\n",
    "* Tie\n"
   ]
  },
  {
   "cell_type": "markdown",
   "metadata": {},
   "source": [
    "## Objectives\n",
    "\n",
    "1. List processing\n",
    "2. Using **for** loop\n",
    "3. Use of conditionals **if-elif-else**\n",
    "4. Use of the functions **range(), len()**\n",
    "5. Print by console"
   ]
  },
  {
   "cell_type": "code",
   "execution_count": 6,
   "metadata": {},
   "outputs": [
    {
     "name": "stdout",
     "output_type": "stream",
     "text": [
      "Saruman win. Saruman attack 23 is higher than Gandalf Attack 10\n",
      "Saruman win. Saruman attack 66 is higher than Gandalf Attack 11\n",
      "Gandalf win. Gandalf Attack 13 is higher than Saruman attack 12\n",
      "Saruman win. Saruman attack 43 is higher than Gandalf Attack 30\n",
      "Gandalf win. Gandalf Attack 22 is higher than Saruman attack 12\n",
      "Gandalf win. Gandalf Attack 11 is higher than Saruman attack 10\n",
      "Saruman win. Saruman attack 44 is higher than Gandalf Attack 10\n",
      "Gandalf win. Gandalf Attack 33 is higher than Saruman attack 23\n",
      "Gandalf win. Gandalf Attack 22 is higher than Saruman attack 12\n",
      "Gandalf win. Gandalf Attack 22 is higher than Saruman attack 17\n",
      "Gandalf has won 6 times\n",
      "Saruman has won 4 times\n"
     ]
    }
   ],
   "source": [
    "# Assign the spell lists to variables\n",
    "gandalf = [10, 11, 13, 30, 22, 11, 10, 33, 22, 22]\n",
    "saruman = [23, 66, 12, 43, 12, 10, 44, 23, 12, 17]\n",
    "# We assign 0 to each variable that stores the wins\n",
    "gandalfvictories=0\n",
    "sarumanvictories=0\n",
    "# Execution of spell shocks\n",
    "for attacks in range(len(gandalf)):\n",
    "    if gandalf[attacks]>saruman[attacks]:\n",
    "        gandalfvictories+=1\n",
    "        print (\"Gandalf win.\",\"Gandalf Attack\", gandalf[attacks],\"is higher than\",\"Saruman attack\",saruman[attacks])\n",
    "    elif gandalf[attacks]<saruman[attacks]:\n",
    "        sarumanvictories+=1\n",
    "        print (\"Saruman win.\",\"Saruman attack\",saruman[attacks],\"is higher than\",\"Gandalf Attack\",gandalf[attacks])\n",
    "    else: print (\"Empate\")\n",
    "# We check who has won, do not forget the possibility of a tie.\n",
    "# Print the result based on the winner.\n",
    "print(\"Gandalf has won\",gandalfvictories, \"times\")\n",
    "print(\"Saruman has won\",sarumanvictories, \"times\")"
   ]
  }
 ],
 "metadata": {
  "kernelspec": {
   "display_name": "Python 3.7.4 64-bit",
   "language": "python",
   "name": "python3"
  },
  "language_info": {
   "codemirror_mode": {
    "name": "ipython",
    "version": 3
   },
   "file_extension": ".py",
   "mimetype": "text/x-python",
   "name": "python",
   "nbconvert_exporter": "python",
   "pygments_lexer": "ipython3",
   "version": "3.7.4"
  },
  "vscode": {
   "interpreter": {
    "hash": "e447912bd1abc126f1a1b02664d51750c99209b93aa0b1eb72bb880925256d69"
   }
  }
 },
 "nbformat": 4,
 "nbformat_minor": 2
}
